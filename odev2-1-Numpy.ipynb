{
 "cells": [
  {
   "cell_type": "markdown",
   "id": "5aa54da6-12c1-4ea2-b6e5-9b46c52b682e",
   "metadata": {
    "tags": []
   },
   "source": [
    "# **ÖDEV-2**"
   ]
  },
  {
   "cell_type": "markdown",
   "id": "0fc79ed2-e47c-4fc8-9615-df8510cb7f1f",
   "metadata": {},
   "source": [
    "1-Numpy kütüphanesini import edin."
   ]
  },
  {
   "cell_type": "code",
   "execution_count": 3,
   "id": "066f155a-cfa0-4cdb-902d-cb93cfb08502",
   "metadata": {},
   "outputs": [],
   "source": [
    "import numpy as np"
   ]
  },
  {
   "cell_type": "markdown",
   "id": "e9252687-0c17-419f-befc-559632204b18",
   "metadata": {},
   "source": [
    "2-1'den 5 e kadar (5 dahil) b isimli bir dizi oluşturun."
   ]
  },
  {
   "cell_type": "code",
   "execution_count": 7,
   "id": "aaecbd63-ee79-45a6-b70a-1107edff88eb",
   "metadata": {},
   "outputs": [
    {
     "data": {
      "text/plain": [
       "array([1, 2, 3, 4, 5])"
      ]
     },
     "execution_count": 7,
     "metadata": {},
     "output_type": "execute_result"
    }
   ],
   "source": [
    "b = np.array([1,2,3,4,5])\n",
    "b"
   ]
  },
  {
   "cell_type": "markdown",
   "id": "5664bfd3-8011-4575-a10a-f23b18a11fce",
   "metadata": {},
   "source": [
    "3- 20 adet 0'dan oluşan 4 x 5' lik dizi oluşturun."
   ]
  },
  {
   "cell_type": "code",
   "execution_count": 8,
   "id": "3b7449f9-f8cd-409f-b10f-71baeef210b7",
   "metadata": {},
   "outputs": [
    {
     "data": {
      "text/plain": [
       "array([[0., 0., 0., 0., 0.],\n",
       "       [0., 0., 0., 0., 0.],\n",
       "       [0., 0., 0., 0., 0.],\n",
       "       [0., 0., 0., 0., 0.]])"
      ]
     },
     "execution_count": 8,
     "metadata": {},
     "output_type": "execute_result"
    }
   ],
   "source": [
    "arr2 = np.zeros((4,5))\n",
    "arr2"
   ]
  },
  {
   "cell_type": "markdown",
   "id": "b571ec93-687f-42d7-ba55-cd082eeee6fa",
   "metadata": {},
   "source": [
    "4- 15 adet 7 sayısından oluşan diziyi 3x5 olarak yazın."
   ]
  },
  {
   "cell_type": "code",
   "execution_count": 9,
   "id": "61264241-34ea-48fb-af52-f50a6f4f5ca8",
   "metadata": {},
   "outputs": [
    {
     "data": {
      "text/plain": [
       "array([[7, 7, 7, 7, 7],\n",
       "       [7, 7, 7, 7, 7],\n",
       "       [7, 7, 7, 7, 7]])"
      ]
     },
     "execution_count": 9,
     "metadata": {},
     "output_type": "execute_result"
    }
   ],
   "source": [
    "sevens = np.full((3,5), 7)\n",
    "sevens"
   ]
  },
  {
   "cell_type": "markdown",
   "id": "ee34b066-12b3-45d9-92bc-62f88ab4c753",
   "metadata": {},
   "source": [
    "5- 10–70 e kadar 5 er artan sayıları yaz."
   ]
  },
  {
   "cell_type": "code",
   "execution_count": 11,
   "id": "94eead17-57cb-4b77-b47e-43b2e1bb3433",
   "metadata": {},
   "outputs": [
    {
     "data": {
      "text/plain": [
       "array([10, 15, 20, 25, 30, 35, 40, 45, 50, 55, 60, 65])"
      ]
     },
     "execution_count": 11,
     "metadata": {},
     "output_type": "execute_result"
    }
   ],
   "source": [
    "ten_to_seven = np.arange(10, 70, 5)\n",
    "ten_to_seven"
   ]
  },
  {
   "cell_type": "markdown",
   "id": "520efa56-fd4e-483c-a084-5ce79c0b687b",
   "metadata": {},
   "source": [
    "6- 10–20 arasında 15 aynı uzaklıkta elemanı olan array oluşturun. (linspace metodunu kullanın.)"
   ]
  },
  {
   "cell_type": "code",
   "execution_count": 12,
   "id": "7e23011f-10f8-4a7a-af57-f2837c919e4e",
   "metadata": {},
   "outputs": [
    {
     "data": {
      "text/plain": [
       "array([10.        , 10.71428571, 11.42857143, 12.14285714, 12.85714286,\n",
       "       13.57142857, 14.28571429, 15.        , 15.71428571, 16.42857143,\n",
       "       17.14285714, 17.85714286, 18.57142857, 19.28571429, 20.        ])"
      ]
     },
     "execution_count": 12,
     "metadata": {},
     "output_type": "execute_result"
    }
   ],
   "source": [
    "np.linspace(10, 20, 15)"
   ]
  },
  {
   "cell_type": "markdown",
   "id": "7b889d5c-5ae2-470d-afb8-dda163eb9109",
   "metadata": {},
   "source": [
    "7- Rastgele sayılardan oluşan diziyi 3x5 boyutunda yazdır."
   ]
  },
  {
   "cell_type": "code",
   "execution_count": 16,
   "id": "d83119e3-8313-4dbb-a2a0-34070e0660f9",
   "metadata": {},
   "outputs": [
    {
     "data": {
      "text/plain": [
       "array([[7, 6, 2, 1, 5],\n",
       "       [4, 3, 4, 8, 2],\n",
       "       [7, 2, 7, 7, 6]])"
      ]
     },
     "execution_count": 16,
     "metadata": {},
     "output_type": "execute_result"
    }
   ],
   "source": [
    "np.random.randint(0,10, (3,5))"
   ]
  },
  {
   "cell_type": "markdown",
   "id": "ea4131f4-1ad8-465f-8cad-0e675b2d14a6",
   "metadata": {},
   "source": [
    "8- 5 elemanlı birim matris oluşturun. eye() metodu kullanın."
   ]
  },
  {
   "cell_type": "code",
   "execution_count": 17,
   "id": "be45a2a4-db11-4f54-869f-b4d435481538",
   "metadata": {},
   "outputs": [
    {
     "data": {
      "text/plain": [
       "array([[1., 0., 0., 0., 0.],\n",
       "       [0., 1., 0., 0., 0.],\n",
       "       [0., 0., 1., 0., 0.],\n",
       "       [0., 0., 0., 1., 0.],\n",
       "       [0., 0., 0., 0., 1.]])"
      ]
     },
     "execution_count": 17,
     "metadata": {},
     "output_type": "execute_result"
    }
   ],
   "source": [
    "np.eye(5)"
   ]
  },
  {
   "cell_type": "markdown",
   "id": "9977eb30-ba6a-40eb-b837-f044caf08532",
   "metadata": {},
   "source": [
    "9- 0'dan 24 e kadar array oluştur. Sonra reshape metodu ile 4x6 boyutu olarak yazın."
   ]
  },
  {
   "cell_type": "code",
   "execution_count": 22,
   "id": "d020e744-475b-4e49-98e5-8a64c65439cb",
   "metadata": {},
   "outputs": [
    {
     "data": {
      "text/plain": [
       "array([[ 0,  1,  2,  3,  4,  5],\n",
       "       [ 6,  7,  8,  9, 10, 11],\n",
       "       [12, 13, 14, 15, 16, 17],\n",
       "       [18, 19, 20, 21, 22, 23]])"
      ]
     },
     "execution_count": 22,
     "metadata": {},
     "output_type": "execute_result"
    }
   ],
   "source": [
    "arrs = np.arange(0,24)\n",
    "arrs = arrs.reshape((4,6))\n",
    "arrs"
   ]
  },
  {
   "cell_type": "markdown",
   "id": "ed17eab4-f8c9-4c7b-8cfc-33693ecc01df",
   "metadata": {},
   "source": [
    "10- 0 ile 1 arasında rastgele 10 sayıdan oluşan bir array tanımlayın. Minimum ve maksimum değerleri bulun."
   ]
  },
  {
   "cell_type": "code",
   "execution_count": 42,
   "id": "943df3f4-3e5e-441c-822b-74e46269bfc3",
   "metadata": {},
   "outputs": [
    {
     "name": "stdout",
     "output_type": "stream",
     "text": [
      "0.876236412666361\n",
      "0.09377328673561491\n"
     ]
    }
   ],
   "source": [
    "a = np.random.random(10)\n",
    "print(a.max())\n",
    "print(a.min())"
   ]
  },
  {
   "cell_type": "markdown",
   "id": "8e4d6c2a-806d-492b-bff9-a6b67b696b4e",
   "metadata": {},
   "source": [
    "11- 36 sayıdan oluşan rastgele sayılar 6x6' lık array olarak yazdırın."
   ]
  },
  {
   "cell_type": "code",
   "execution_count": 4,
   "id": "99bba0d0-434e-4e4e-8b79-600b2a46b24c",
   "metadata": {},
   "outputs": [
    {
     "data": {
      "text/plain": [
       "array([[20, 11,  2, 14,  0, 11],\n",
       "       [ 5, 30,  3, 14,  6, 19],\n",
       "       [15, 19, 26, 27, 23, 20],\n",
       "       [ 6, 31, 10,  1, 10, 34],\n",
       "       [18, 29,  4,  9, 19, 14],\n",
       "       [23, 20,  0, 35, 14, 29]])"
      ]
     },
     "execution_count": 4,
     "metadata": {},
     "output_type": "execute_result"
    }
   ],
   "source": [
    "my_arr = np.random.randint(0,36, (6,6))\n",
    "my_arr"
   ]
  },
  {
   "cell_type": "markdown",
   "id": "c81dc2f7-5c00-4d43-853e-5cc4035e6eca",
   "metadata": {},
   "source": [
    "12- 5.satırdaki elemanları gösteriniz."
   ]
  },
  {
   "cell_type": "code",
   "execution_count": 5,
   "id": "e81e4944-e677-4766-af20-cac17c7e74c8",
   "metadata": {},
   "outputs": [
    {
     "data": {
      "text/plain": [
       "array([18, 29,  4,  9, 19, 14])"
      ]
     },
     "execution_count": 5,
     "metadata": {},
     "output_type": "execute_result"
    }
   ],
   "source": [
    "my_arr[4,:]"
   ]
  },
  {
   "cell_type": "markdown",
   "id": "245ff696-9131-4099-b4da-fd6a742638a7",
   "metadata": {},
   "source": [
    "13- 6.satır ve 6.sutundaki elemanları gösteriniz."
   ]
  },
  {
   "cell_type": "code",
   "execution_count": 6,
   "id": "993e0389-1748-4dc1-8c4a-411b86ea75f6",
   "metadata": {},
   "outputs": [
    {
     "name": "stdout",
     "output_type": "stream",
     "text": [
      "[23 20  0 35 14 29]\n",
      "[11 19 20 34 14 29]\n"
     ]
    }
   ],
   "source": [
    "print(my_arr[5,:])\n",
    "print(my_arr[:,5])"
   ]
  },
  {
   "cell_type": "markdown",
   "id": "0c33bb81-f4a9-4a67-8ab8-d422db01c442",
   "metadata": {},
   "source": [
    "14-4.sutundaki tüm elemanları çekin."
   ]
  },
  {
   "cell_type": "code",
   "execution_count": 7,
   "id": "f466d9e6-a503-46d1-8528-80b516b6bd4c",
   "metadata": {},
   "outputs": [
    {
     "data": {
      "text/plain": [
       "array([14, 14, 27,  1,  9, 35])"
      ]
     },
     "execution_count": 7,
     "metadata": {},
     "output_type": "execute_result"
    }
   ],
   "source": [
    "col_4 = my_arr[:,3]\n",
    "col_4"
   ]
  },
  {
   "cell_type": "markdown",
   "id": "e1ad52f0-1293-4db1-8825-78b65b87f7ba",
   "metadata": {},
   "source": [
    "15- For döngüsünü ve flat metodunu kullanarak satır satır elemanları yazdırınız."
   ]
  },
  {
   "cell_type": "code",
   "execution_count": 12,
   "id": "18c98c3c-f00e-4c4a-93be-0fac4f1aa4ee",
   "metadata": {},
   "outputs": [
    {
     "name": "stdout",
     "output_type": "stream",
     "text": [
      "[10 19  2 26 20 19]\n",
      "[11 23 14 26  5 31]\n",
      "[27 31  4  9 34 10]\n",
      "[ 5 20  6 11  6 14]\n",
      "[ 6 14  0 14 31 26]\n",
      "[34 10 20 29 26 14]\n"
     ]
    }
   ],
   "source": [
    "for i in (my_arr):\n",
    "    print(my_arr.flat[i])"
   ]
  },
  {
   "cell_type": "markdown",
   "id": "01f6ea0d-c5a4-41c4-a065-353930cc9fc3",
   "metadata": {},
   "source": [
    "16- 0 ile 1 aralığında bir array oluştur. Bu array değerini 5 ile çarpın."
   ]
  },
  {
   "cell_type": "code",
   "execution_count": 21,
   "id": "1f2a1f0c-592f-42d7-834a-754078f36821",
   "metadata": {},
   "outputs": [
    {
     "data": {
      "text/plain": [
       "array([[1.47099938, 1.69655402],\n",
       "       [2.35098089, 3.06863726]])"
      ]
     },
     "execution_count": 21,
     "metadata": {},
     "output_type": "execute_result"
    }
   ],
   "source": [
    "my_arr2 = np.random.random((2,2))\n",
    "my_arr2\n",
    "my_arr2 *= 5\n",
    "my_arr2"
   ]
  },
  {
   "cell_type": "markdown",
   "id": "4188e6c6-a996-479a-8659-f9786e51c7c7",
   "metadata": {},
   "source": [
    "16- Satırların toplam değeri nedir?"
   ]
  },
  {
   "cell_type": "code",
   "execution_count": 26,
   "id": "aa609182-4566-4183-a52c-7bed190da431",
   "metadata": {},
   "outputs": [
    {
     "data": {
      "text/plain": [
       "array([3.1675534 , 5.41961815])"
      ]
     },
     "execution_count": 26,
     "metadata": {},
     "output_type": "execute_result"
    }
   ],
   "source": [
    "np.sum(my_arr2, axis = 1)"
   ]
  },
  {
   "cell_type": "markdown",
   "id": "8499b1c0-f59c-49f9-9371-ecba2ec4881b",
   "metadata": {},
   "source": [
    "17-Satırların standart sapma değeri nedir?"
   ]
  },
  {
   "cell_type": "code",
   "execution_count": 27,
   "id": "0eb510b4-cfbe-4795-81e0-77234f880dca",
   "metadata": {},
   "outputs": [
    {
     "data": {
      "text/plain": [
       "array([0.11277732, 0.35882819])"
      ]
     },
     "execution_count": 27,
     "metadata": {},
     "output_type": "execute_result"
    }
   ],
   "source": [
    "np.std(my_arr2, axis = 1)"
   ]
  },
  {
   "cell_type": "markdown",
   "id": "72b44cf8-59a7-41e4-88c8-ef467855de60",
   "metadata": {},
   "source": [
    "18-Satırların varyans değeri nedir?"
   ]
  },
  {
   "cell_type": "code",
   "execution_count": 28,
   "id": "47b2b9c6-455f-4c2c-bc52-5e2eda836486",
   "metadata": {},
   "outputs": [
    {
     "data": {
      "text/plain": [
       "array([0.01271872, 0.12875767])"
      ]
     },
     "execution_count": 28,
     "metadata": {},
     "output_type": "execute_result"
    }
   ],
   "source": [
    "np.var(my_arr2, axis = 1)"
   ]
  },
  {
   "cell_type": "markdown",
   "id": "84a08fe8-e474-4af1-8025-f295cc463a1a",
   "metadata": {},
   "source": [
    "19- Satırların transpoz değeri nedir?"
   ]
  },
  {
   "cell_type": "code",
   "execution_count": 29,
   "id": "4fc83c55-51ba-4fd5-bc67-1dbfd0450aa5",
   "metadata": {},
   "outputs": [
    {
     "data": {
      "text/plain": [
       "array([[1.47099938, 2.35098089],\n",
       "       [1.69655402, 3.06863726]])"
      ]
     },
     "execution_count": 29,
     "metadata": {},
     "output_type": "execute_result"
    }
   ],
   "source": [
    "my_arr2.transpose()"
   ]
  },
  {
   "cell_type": "code",
   "execution_count": null,
   "id": "4cfe8890-17e6-4c45-b3c4-4edd579ef594",
   "metadata": {},
   "outputs": [],
   "source": []
  }
 ],
 "metadata": {
  "kernelspec": {
   "display_name": "Python 3",
   "language": "python",
   "name": "python3"
  },
  "language_info": {
   "codemirror_mode": {
    "name": "ipython",
    "version": 3
   },
   "file_extension": ".py",
   "mimetype": "text/x-python",
   "name": "python",
   "nbconvert_exporter": "python",
   "pygments_lexer": "ipython3",
   "version": "3.8.8"
  }
 },
 "nbformat": 4,
 "nbformat_minor": 5
}
