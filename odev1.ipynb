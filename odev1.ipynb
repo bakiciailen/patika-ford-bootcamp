{
 "cells": [
  {
   "cell_type": "markdown",
   "id": "7664e1ed-15af-448e-a5cf-7944fcc3a3cf",
   "metadata": {},
   "source": [
    "# **ÖDEV (1.HAFTA)**"
   ]
  },
  {
   "cell_type": "markdown",
   "id": "867899b1-2885-4470-956d-91b816ab51c5",
   "metadata": {
    "id": "39f94c75-97f6-4ad4-81c8-302be5c6fa77"
   },
   "source": [
    "1- İki çocuğunun yaşları toplamı 5'tir. 3 yıl sonra babanın yaşı çocukların yaşları toplamının 3 katı olacağına göre babanın bugünkü yaşı kaçtır? \n",
    "\n",
    "Denklemi python dilinde kurunuz ve çıktıyı print ediniz. "
   ]
  },
  {
   "cell_type": "code",
   "execution_count": 1,
   "id": "532a0f9d-65c0-48ac-827a-65490c4043cf",
   "metadata": {},
   "outputs": [
    {
     "name": "stdout",
     "output_type": "stream",
     "text": [
      "30\n"
     ]
    }
   ],
   "source": [
    "toplam = 5;\n",
    "# 3 yıl sonra\n",
    "toplam += 6 # 2 çocuk \n",
    "baba = toplam * 3 # babanın 3 yıl sonraki yaşı\n",
    "print(baba-3) # 3 yıl önce, yani bugünkü"
   ]
  },
  {
   "cell_type": "markdown",
   "id": "301c8cbd-6617-4f3b-bd7e-e1ebc252c69d",
   "metadata": {
    "id": "6fb2cb52-65f0-4a80-a4f4-f31f7b70bf5f"
   },
   "source": [
    "2-_Veri bilimi, verilerden değer elde etmek için istatistik, bilimsel yöntemler, yapay zeka (AI) ve veri analizi dahil olmak üzere birçok alanı bir araya getirir. Veri Bilimiyle uğraşan kişilere veri bilimci denir. Bu kişiler web, akıllı telefonlar, müşteriler, sensörler ve diğer kaynaklardan toplanan verileri analiz etmek ve bunlardan eyleme dönüştürülebilir içgörüler üretmek amacıyla bir dizi beceriyi bir araya getirir._\n",
    "\n",
    "Yukarıda yer alan metindeki \"veri bilim\" kelimelerini bulup yerine \"VERİ BİLİM\" yazınız."
   ]
  },
  {
   "cell_type": "code",
   "execution_count": 4,
   "id": "1d83ffe6-8e66-4335-930a-44441ffb6cbe",
   "metadata": {},
   "outputs": [
    {
     "name": "stdout",
     "output_type": "stream",
     "text": [
      "VERİ BİLİMi, verilerden değer elde etmek için istatistik, bilimsel yöntemler, yapay zeka (AI) ve veri analizi dahil olmak üzere birçok alanı bir araya getirir. VERİ BİLİMiyle uğraşan kişilere VERİ BİLİMci denir. Bu kişiler web, akıllı telefonlar, müşteriler, sensörler ve diğer kaynaklardan toplanan verileri analiz etmek ve bunlardan eyleme dönüştürülebilir içgörüler üretmek amacıyla bir dizi beceriyi bir araya getirir\n"
     ]
    }
   ],
   "source": [
    "inp_text = \"Veri bilimi, verilerden değer elde etmek için istatistik, bilimsel yöntemler, yapay zeka (AI) ve veri analizi dahil olmak üzere birçok alanı bir araya getirir. Veri Bilimiyle uğraşan kişilere veri bilimci denir. Bu kişiler web, akıllı telefonlar, müşteriler, sensörler ve diğer kaynaklardan toplanan verileri analiz etmek ve bunlardan eyleme dönüştürülebilir içgörüler üretmek amacıyla bir dizi beceriyi bir araya getirir\"\n",
    "words = inp_text.split()\n",
    "for idx, word in enumerate(words):\n",
    "    if \"veri\" in word.lower():\n",
    "        if \"bilim\" in words[idx+1].lower():\n",
    "            words[idx] = words[idx].lower().replace('veri', 'VERİ')\n",
    "            words[idx+1] = words[idx+1].lower().replace('bilim', 'BİLİM')\n",
    "inp_text = ' '.join(words)\n",
    "print(inp_text)"
   ]
  },
  {
   "cell_type": "markdown",
   "id": "9e1b9eb4-caf3-49b5-8180-55fe6595515e",
   "metadata": {
    "id": "bc97013a-39a7-465c-89e4-41420aaa2655"
   },
   "source": [
    "3- Adını, soyadını, yaşını, yaşadığın şehri ve üniversite ortalamanı aralarında birer boşluk olacak şekilde tek bir print ifade içerisinde yazın."
   ]
  },
  {
   "cell_type": "code",
   "execution_count": 5,
   "id": "9837ca8f-3b5c-4b47-8afd-32d42323f85f",
   "metadata": {},
   "outputs": [
    {
     "name": "stdout",
     "output_type": "stream",
     "text": [
      "Alperen Türk 21 İstanbul 3.16\n"
     ]
    }
   ],
   "source": [
    "print(\"Alperen Türk 21 İstanbul 3.16\")"
   ]
  },
  {
   "cell_type": "markdown",
   "id": "92c851d1-873a-49b7-bc1c-b0cce03a893f",
   "metadata": {
    "id": "29ec9965-6933-45d7-9496-c42e94045e19"
   },
   "source": [
    "4- Veri bilimi günümüzün en heyecan verici alanlardan biridir.\n",
    "\n",
    "\"Veri bilimi\" ve \"alanlardan biridir.\" kelimelerini cümle içerisinden alınız ve her kelimeyi uzunlukları kadar aşağı doğru çoğaltarak print ediniz.\n",
    "\n",
    "NOT: \"\\n\" ifadesi alt satıra geçer "
   ]
  },
  {
   "cell_type": "code",
   "execution_count": 6,
   "id": "157b8c47-dd75-4df8-870f-b2cd1eaac708",
   "metadata": {},
   "outputs": [
    {
     "name": "stdout",
     "output_type": "stream",
     "text": [
      "Veri bilimi\n",
      "Veri bilimi\n",
      "Veri bilimi\n",
      "Veri bilimi\n",
      "Veri bilimi\n",
      "Veri bilimi\n",
      "Veri bilimi\n",
      "Veri bilimi\n",
      "Veri bilimi\n",
      "Veri bilimi\n",
      "Veri bilimi\n",
      "alanlardan biridir.\n",
      "alanlardan biridir.\n",
      "alanlardan biridir.\n",
      "alanlardan biridir.\n",
      "alanlardan biridir.\n",
      "alanlardan biridir.\n",
      "alanlardan biridir.\n",
      "alanlardan biridir.\n",
      "alanlardan biridir.\n",
      "alanlardan biridir.\n",
      "alanlardan biridir.\n",
      "alanlardan biridir.\n",
      "alanlardan biridir.\n",
      "alanlardan biridir.\n",
      "alanlardan biridir.\n",
      "alanlardan biridir.\n",
      "alanlardan biridir.\n",
      "alanlardan biridir.\n",
      "alanlardan biridir.\n"
     ]
    }
   ],
   "source": [
    "inp_text = \"Veri bilimi günümüzün en heyecan verici alanlardan biridir.\"\n",
    "veri_str = inp_text[:inp_text.find(\"bilimi\")+len(\"bilimi\")]\n",
    "alan_str = inp_text[inp_text.find(\"alanlardan\"):]\n",
    "\n",
    "for i in range(len(veri_str)):\n",
    "    print(veri_str)\n",
    "for i in range(len(alan_str)):\n",
    "    print(alan_str)"
   ]
  },
  {
   "cell_type": "markdown",
   "id": "f1978d1a-72e9-4f39-8c4f-5c33a1de2507",
   "metadata": {
    "id": "932dee64-3a37-41f6-8fc6-465f3c9560de"
   },
   "source": [
    "5- \"veri bilimi\" ve \"VERİ BİLİMİ\" kelimelerinden hangisi büyük hangisi küçük harf ile yazılmış kontrol ediniz.  \n",
    "\n",
    "Not: Hangi fonksiyonu kullanmanız gerektiğini dir() bulabilirsiniz. "
   ]
  },
  {
   "cell_type": "code",
   "execution_count": 7,
   "id": "a870a746-6046-471b-afe6-e4df4f21fda2",
   "metadata": {},
   "outputs": [
    {
     "name": "stdout",
     "output_type": "stream",
     "text": [
      "veri bilimi: küçük harfle yazılmış.\n",
      "VERİ BİLİMİ: büyük harfle yazılmış.\n"
     ]
    }
   ],
   "source": [
    "low = \"veri bilimi\"\n",
    "up = \"VERİ BİLİMİ\"\n",
    "if low.isupper():\n",
    "    print(low + \": büyük harfle yazılmış.\")\n",
    "elif low.islower():\n",
    "    print(low + \": küçük harfle yazılmış.\")\n",
    "if up.isupper():\n",
    "    print(up + \": büyük harfle yazılmış.\")\n",
    "elif up.islower():\n",
    "    print(up + \": küçük harfle yazılmış.\")"
   ]
  },
  {
   "cell_type": "markdown",
   "id": "06eed364-c09d-4596-bbec-8558c59eda95",
   "metadata": {},
   "source": [
    "6- adınız, soyadınız, yaşınız, yaşadğınız şehir ve universite not ortalamanız ile bir liste oluşturunuz. Oluşturduğunuz listeyi \"listem\" değişkeni olarak kaydedeiniz."
   ]
  },
  {
   "cell_type": "code",
   "execution_count": 8,
   "id": "00a10cf0-ebf2-4b8d-8279-bca3bd96c081",
   "metadata": {},
   "outputs": [
    {
     "name": "stdout",
     "output_type": "stream",
     "text": [
      "['Alperen', 'Türk', 21, 'İstanbul', 3.14]\n"
     ]
    }
   ],
   "source": [
    "listem = [\"Alperen\", \"Türk\", 21, \"İstanbul\", 3.14]\n",
    "print(listem)"
   ]
  },
  {
   "cell_type": "markdown",
   "id": "21afac76-6ebb-4f45-bd50-07101121556f",
   "metadata": {},
   "source": [
    "7- \"listem\" değişkeni içerisinden yaşınızı, yaşadığınız şehiri ve universite not ortalamanızı seçerek \"listem2\" değişkenini oluşturunuz. "
   ]
  },
  {
   "cell_type": "code",
   "execution_count": 9,
   "id": "76f64aaf-3be5-407c-bf53-9be8764fd601",
   "metadata": {},
   "outputs": [
    {
     "name": "stdout",
     "output_type": "stream",
     "text": [
      "[21, 'İstanbul', 3.14]\n"
     ]
    }
   ],
   "source": [
    "listem2 = [listem[2], listem[3], listem[4]]\n",
    "print(listem2)"
   ]
  },
  {
   "cell_type": "markdown",
   "id": "fa762a13-5d06-4571-bccb-d2a8dadbc1f6",
   "metadata": {},
   "source": [
    "8- \"listem2\" değişkeninin her bir elamanının türlerini yazdırınız."
   ]
  },
  {
   "cell_type": "code",
   "execution_count": 10,
   "id": "4274e1a1-207b-485b-8b63-2f3dca38778d",
   "metadata": {},
   "outputs": [
    {
     "name": "stdout",
     "output_type": "stream",
     "text": [
      "<class 'int'>\n",
      "<class 'str'>\n",
      "<class 'float'>\n"
     ]
    }
   ],
   "source": [
    "for el in listem2:\n",
    "    print(type(el))"
   ]
  },
  {
   "cell_type": "markdown",
   "id": "3240b4e0-401c-4881-a9c1-ea2c0a0d520c",
   "metadata": {},
   "source": [
    "9- \"listem2\" değişkenine aşağıdaki listeyi LİSTE olarak ekleyiniz."
   ]
  },
  {
   "cell_type": "code",
   "execution_count": 11,
   "id": "b637b0c2-f310-4f58-9e87-8fa6813a5c12",
   "metadata": {},
   "outputs": [
    {
     "name": "stdout",
     "output_type": "stream",
     "text": [
      "[21, 'İstanbul', 3.14, 'Ali', 90, 'Mehmet']\n"
     ]
    }
   ],
   "source": [
    "eklenecek_liste = [\"Ali\", 90, \"Mehmet\"]\n",
    "listem2 += eklenecek_liste\n",
    "print(listem2)"
   ]
  },
  {
   "cell_type": "markdown",
   "id": "1bd608d6-a894-45ea-9361-b289f10399dd",
   "metadata": {},
   "source": [
    "10- \"listem2\" değişkeninin içinden \"Ali\" ve \"90\" ı seçip Listem3 değişkenine atayınız. "
   ]
  },
  {
   "cell_type": "code",
   "execution_count": 12,
   "id": "63e8210d-c0ed-4ab0-982b-6124417fd7ee",
   "metadata": {},
   "outputs": [
    {
     "name": "stdout",
     "output_type": "stream",
     "text": [
      "['Ali', 90]\n"
     ]
    }
   ],
   "source": [
    "listem3 = [listem2[3], listem2[4]]\n",
    "print(listem3)"
   ]
  },
  {
   "cell_type": "markdown",
   "id": "7d55b88a-d277-46a3-a42b-84a96f29452a",
   "metadata": {},
   "source": [
    "11- \"listem2\" değişkenine Listem3 değişkenini ELEMAN olarak ekleyiniz."
   ]
  },
  {
   "cell_type": "code",
   "execution_count": 13,
   "id": "63cdb1d4-4dc7-449c-b706-f6c3421e9d47",
   "metadata": {},
   "outputs": [
    {
     "name": "stdout",
     "output_type": "stream",
     "text": [
      "[21, 'İstanbul', 3.14, 'Ali', 90, 'Mehmet', ['Ali', 90]]\n"
     ]
    }
   ],
   "source": [
    "listem2.append(listem3)\n",
    "print(listem2)"
   ]
  },
  {
   "cell_type": "markdown",
   "id": "d1026cbb-359d-41a8-b826-45db7448f895",
   "metadata": {},
   "source": [
    "12- \"listem2\" içerisinden 90 elemanını siliniz."
   ]
  },
  {
   "cell_type": "code",
   "execution_count": 14,
   "id": "1c8ddc58-b1c3-46a1-ba69-7785de29a41a",
   "metadata": {},
   "outputs": [
    {
     "name": "stdout",
     "output_type": "stream",
     "text": [
      "[21, 'İstanbul', 3.14, 'Ali', 'Mehmet', ['Ali', 90]]\n"
     ]
    }
   ],
   "source": [
    "del listem2[4]\n",
    "print(listem2)"
   ]
  },
  {
   "cell_type": "markdown",
   "id": "844e685e-c40e-45b5-8668-470399c158b5",
   "metadata": {},
   "source": [
    "13- 1'den 10'a kadar tüm rakamları azalacak şekilde sıralanmış şekilde bir liste oluşturunuz. \"yeni_liste\" değişkenine atayınız."
   ]
  },
  {
   "cell_type": "code",
   "execution_count": 15,
   "id": "822c209f-8a44-42dd-a001-03db6e1d51c0",
   "metadata": {},
   "outputs": [
    {
     "name": "stdout",
     "output_type": "stream",
     "text": [
      "[10, 9, 8, 7, 6, 5, 4, 3, 2, 1]\n"
     ]
    }
   ],
   "source": [
    "yeni_liste = []\n",
    "for i in range(10,0,-1):\n",
    "    yeni_liste.append(i)\n",
    "print(yeni_liste)"
   ]
  },
  {
   "cell_type": "markdown",
   "id": "27566aff-4d25-4f36-b477-30cc800772a0",
   "metadata": {},
   "source": [
    "14- \"yeni_liste\" değişkeninin içerisindeki 7 ve 2 elemanlarının yerlerini belirtiniz."
   ]
  },
  {
   "cell_type": "code",
   "execution_count": 16,
   "id": "f8911058-29f5-4b18-b8ad-930539811a9a",
   "metadata": {},
   "outputs": [
    {
     "name": "stdout",
     "output_type": "stream",
     "text": [
      "7'nin konumu:3\n",
      "2'nin konumu:8\n"
     ]
    }
   ],
   "source": [
    "print(\"7'nin konumu:\"+str(yeni_liste.index(7)))\n",
    "print(\"2'nin konumu:\"+str(yeni_liste.index(2)))"
   ]
  },
  {
   "cell_type": "markdown",
   "id": "028d1129-dc6f-4c8c-8d16-a1979a0477bf",
   "metadata": {},
   "source": [
    "15- \"listem2\" üzerinden tuple oluşturunuz ve \"tuple1\" adını veriniz"
   ]
  },
  {
   "cell_type": "code",
   "execution_count": 20,
   "id": "01d88f20-48cb-4784-9b21-885e1eb904a2",
   "metadata": {},
   "outputs": [
    {
     "name": "stdout",
     "output_type": "stream",
     "text": [
      "(21, 'İstanbul', 3.14, 'Ali', 'Mehmet', ['Ali', 90])\n"
     ]
    }
   ],
   "source": [
    "tuple1 = tuple(listem2)\n",
    "print(tuple1)"
   ]
  },
  {
   "cell_type": "markdown",
   "id": "49a17cb5-ecd5-42b9-97fd-c4b830063500",
   "metadata": {},
   "source": [
    "16- \"tuple1\" değişkeni içerisindeki \"Ali\" yerine \"Veli\" yazınız."
   ]
  },
  {
   "cell_type": "code",
   "execution_count": 21,
   "id": "a21ba449-0bd0-4976-b814-fb89c17544d8",
   "metadata": {},
   "outputs": [
    {
     "name": "stdout",
     "output_type": "stream",
     "text": [
      "(21, 'İstanbul', 3.14, 'Veli', 'Mehmet', ['Ali', 90])\n"
     ]
    }
   ],
   "source": [
    "temp = list(tuple1)  \n",
    "temp[temp.index('Ali')] = \"Veli\"\n",
    "tuple1 = tuple(temp)\n",
    "print(tuple1)"
   ]
  },
  {
   "cell_type": "markdown",
   "id": "b7bd6f45-4c77-476c-b41a-0f717f320389",
   "metadata": {},
   "source": [
    "17- 1'den 10'a kadar tüm rakamları azalacak şekilde sıralanmış şekilde bir tuple oluşturunuz. \"yeni_tuple\" değişkenine atayınız. (NOT: methodu siz bulacaksınız)"
   ]
  },
  {
   "cell_type": "code",
   "execution_count": 22,
   "id": "a354b2ec-6e9c-4e82-a880-c556576990f9",
   "metadata": {},
   "outputs": [
    {
     "name": "stdout",
     "output_type": "stream",
     "text": [
      "(10, 9, 8, 7, 6, 5, 4, 3, 2, 1)\n"
     ]
    }
   ],
   "source": [
    "yeni_tuple = (tuple(range(10,0,-1)))\n",
    "print(yeni_tuple)"
   ]
  },
  {
   "cell_type": "markdown",
   "id": "6216e50d-de9d-4e74-b243-9a000041d7eb",
   "metadata": {},
   "source": [
    "18- \"yeni_tuple\" değişkeninin içerisindeki 7 ve 2 elemanlarının yerlerini belirtiniz."
   ]
  },
  {
   "cell_type": "code",
   "execution_count": 23,
   "id": "6947b9d2-2edc-4c83-9e2c-dc7ae1207a41",
   "metadata": {},
   "outputs": [
    {
     "name": "stdout",
     "output_type": "stream",
     "text": [
      "7'nin konumu:3\n",
      "2'nin konumu:8\n"
     ]
    }
   ],
   "source": [
    "print(\"7'nin konumu:\"+str(yeni_tuple.index(7)))\n",
    "print(\"2'nin konumu:\"+str(yeni_tuple.index(2)))"
   ]
  },
  {
   "cell_type": "markdown",
   "id": "91b74e65-d5b7-4d1d-a1fd-7d8480640314",
   "metadata": {},
   "source": [
    "19- Aşağıda yer alan dictionary'nin içinden REG'in RMSE değerini, LOG'un MSE değerini ve CART'ın SSE değerini ayrı ayrı çekip yeni bir SET oluşturunuz. "
   ]
  },
  {
   "cell_type": "code",
   "execution_count": 24,
   "id": "4d349e7c-ca59-4a0e-b377-83f785301b92",
   "metadata": {},
   "outputs": [
    {
     "name": "stdout",
     "output_type": "stream",
     "text": [
      "{'SSE', 'MSE', 'RMSE'}\n"
     ]
    }
   ],
   "source": [
    "dictionary = {\"REG\": [\"RMSE\", 10],\n",
    "              \"LOG\": [\"MSE\", 20],\n",
    "              \"CART\": [\"SSE\", 10]} # değerleri sorulmuş fakat dictionarydeki her keyin itemı bir liste ve bu istenen değerler de listenin 0. elemanı\n",
    "new_set = set()\n",
    "for key, values in dictionary.items():\n",
    "    new_set.add(values[0])\n",
    "print(new_set)"
   ]
  },
  {
   "cell_type": "markdown",
   "id": "f519a647-99bd-4fda-b276-800020d6f083",
   "metadata": {},
   "source": [
    "20- CART değerini [\"SSE\", 30] olarak değiştiriniz. "
   ]
  },
  {
   "cell_type": "code",
   "execution_count": 25,
   "id": "ada68433-c50d-4d12-908f-961cdfc7665d",
   "metadata": {},
   "outputs": [
    {
     "name": "stdout",
     "output_type": "stream",
     "text": [
      "{'REG': ['RMSE', 10], 'LOG': ['MSE', 20], 'CART': ['SSE', 30]}\n"
     ]
    }
   ],
   "source": [
    "dictionary[\"CART\"] = [\"SSE\", 30]\n",
    "print(dictionary)"
   ]
  },
  {
   "cell_type": "markdown",
   "id": "32a58270-b709-4f3d-86dd-15d3e17e06d6",
   "metadata": {},
   "source": [
    "21- Sözlüğe yeni bir \"RF\" key değeri ekleyerek value'sunu [\"SSE\", 50] olarak tanımlayınız.  "
   ]
  },
  {
   "cell_type": "code",
   "execution_count": 26,
   "id": "9894d309-b49f-4c36-bdf2-cdd5763e0c0e",
   "metadata": {},
   "outputs": [
    {
     "name": "stdout",
     "output_type": "stream",
     "text": [
      "{'REG': ['RMSE', 10], 'LOG': ['MSE', 20], 'CART': ['SSE', 30], 'RF': ['SSE', 50]}\n"
     ]
    }
   ],
   "source": [
    "dictionary[\"RF\"] = [\"SSE\", 50]\n",
    "print(dictionary)"
   ]
  },
  {
   "cell_type": "markdown",
   "id": "bb2fcb9d-2101-4af8-a5ff-94820609524f",
   "metadata": {},
   "source": [
    "22- Aşağıda yer alan listeyi SET'e çeviriniz, \"set1\" adını veriniz ve içindeki eleman sayısını söyleyiniz. "
   ]
  },
  {
   "cell_type": "code",
   "execution_count": 28,
   "id": "1ec08309-674f-4d0c-afaf-78dbaecd738b",
   "metadata": {},
   "outputs": [
    {
     "name": "stdout",
     "output_type": "stream",
     "text": [
      "{'Mehmet', 'Ali', 10, 20, 'Ayşe'}\n",
      "5\n"
     ]
    }
   ],
   "source": [
    "liste1 = [10, 20, 10, \"Ali\", 10, \"Ali\", \"Mehmet\", 20, \"Ayşe\" ]\n",
    "set1 = set(liste1)\n",
    "print(set1)\n",
    "print(len(set1))"
   ]
  },
  {
   "cell_type": "markdown",
   "id": "db0e1841-c521-426f-ba47-38c3fa0d3a45",
   "metadata": {},
   "source": [
    "23- \"set1\" kümesinin içinden 5. eleman ile 7. elemanı çekiniz. "
   ]
  },
  {
   "cell_type": "code",
   "execution_count": 31,
   "id": "390792eb-df1d-43d7-995e-9ae8a269206d",
   "metadata": {},
   "outputs": [
    {
     "name": "stdout",
     "output_type": "stream",
     "text": [
      "Ayşe\n"
     ]
    }
   ],
   "source": [
    "print(list(set1)[4])\n",
    "#7. eleman yoktur"
   ]
  },
  {
   "cell_type": "markdown",
   "id": "26a8ccb1-6f47-4ab1-8af1-30e49fca6a57",
   "metadata": {},
   "source": [
    "24- \"set1\" kümesinde yer alan \"Ali\" yerine \"Veli\" ve 10 yerini \"40\" değerlerini ekleyiniz.  "
   ]
  },
  {
   "cell_type": "code",
   "execution_count": 32,
   "id": "56063fff-496a-4716-954f-a3f3c95a8864",
   "metadata": {},
   "outputs": [
    {
     "name": "stdout",
     "output_type": "stream",
     "text": [
      "{'Mehmet', 'Veli', '40', 20, 'Ayşe'}\n"
     ]
    }
   ],
   "source": [
    "set1.discard(\"Ali\")\n",
    "set1.add(\"Veli\")\n",
    "set1.discard(10)\n",
    "set1.add(\"40\")\n",
    "print(set1)"
   ]
  },
  {
   "cell_type": "markdown",
   "id": "dcc0cc95-ae87-4098-a6c5-0a11aa1a03d5",
   "metadata": {},
   "source": [
    "25- **ZOR SORU** aşağıda yer alan kümeler için soruları cevaplayınız. (Küme methodları kullanılabilir.)"
   ]
  },
  {
   "cell_type": "code",
   "execution_count": 33,
   "id": "14c1f0e3-022a-4ff9-a9d2-272c34df2e3c",
   "metadata": {},
   "outputs": [],
   "source": [
    "set1 = set([1, 3, 5])\n",
    "set2 = set([1, 2, 3])"
   ]
  },
  {
   "cell_type": "markdown",
   "id": "d9c66f31-e0ef-42c9-bca3-730c24ea2a2c",
   "metadata": {},
   "source": [
    "25.1- set1'de olup set2'de olmayanlar hangileridir? (difference())"
   ]
  },
  {
   "cell_type": "code",
   "execution_count": 34,
   "id": "3be45059-9b6f-4ec7-bfbe-9972fb4c8829",
   "metadata": {},
   "outputs": [
    {
     "name": "stdout",
     "output_type": "stream",
     "text": [
      "{5}\n"
     ]
    }
   ],
   "source": [
    "print(set1.difference(set2))"
   ]
  },
  {
   "cell_type": "markdown",
   "id": "0983e4ae-89d7-4502-9c14-17e44233d702",
   "metadata": {},
   "source": [
    "25.2- set2'de olup set1'de olmayanlar hangileridir? (difference())"
   ]
  },
  {
   "cell_type": "code",
   "execution_count": 35,
   "id": "01e46d0b-f5e2-4897-8b48-eefb19b389e5",
   "metadata": {},
   "outputs": [
    {
     "name": "stdout",
     "output_type": "stream",
     "text": [
      "{2}\n"
     ]
    }
   ],
   "source": [
    "print(set2.difference(set1))"
   ]
  },
  {
   "cell_type": "markdown",
   "id": "a5a7587c-91c6-4879-b582-ae8871b8e69b",
   "metadata": {},
   "source": [
    "25.3- İki kümede de birbirlerine göre olmayanlar hangileridir? (symmetric_difference())"
   ]
  },
  {
   "cell_type": "code",
   "execution_count": 36,
   "id": "106a0b22-b687-4c74-adda-b03b8a189d83",
   "metadata": {},
   "outputs": [
    {
     "name": "stdout",
     "output_type": "stream",
     "text": [
      "{2, 5}\n"
     ]
    }
   ],
   "source": [
    "print(set1.symmetric_difference(set2))"
   ]
  },
  {
   "cell_type": "markdown",
   "id": "c7d42cd1-c13d-4d4d-8076-3cab3e5e4791",
   "metadata": {},
   "source": [
    "25.4- İki kümenin kesişimi nedir? (intersection())"
   ]
  },
  {
   "cell_type": "code",
   "execution_count": 37,
   "id": "210c4f24-2530-448e-a6ce-e03892636dd2",
   "metadata": {},
   "outputs": [
    {
     "name": "stdout",
     "output_type": "stream",
     "text": [
      "{1, 3}\n"
     ]
    }
   ],
   "source": [
    "print(set1.intersection(set2))"
   ]
  },
  {
   "cell_type": "markdown",
   "id": "51917b33-b708-4e02-aa1b-eb4053e45612",
   "metadata": {},
   "source": [
    "25.5- İki kümenin birleşimi nedir? (union())"
   ]
  },
  {
   "cell_type": "code",
   "execution_count": 38,
   "id": "ea68ab96-e09f-4b99-b650-d594c155e41a",
   "metadata": {},
   "outputs": [
    {
     "name": "stdout",
     "output_type": "stream",
     "text": [
      "{1, 2, 3, 5}\n"
     ]
    }
   ],
   "source": [
    "print(set1.union(set2))"
   ]
  },
  {
   "cell_type": "markdown",
   "id": "223d3e00-95f8-43b7-898e-ab3a8908b4c9",
   "metadata": {},
   "source": [
    "25.6- İki kümenin kesişimi boş mudur? (isdisjoint())"
   ]
  },
  {
   "cell_type": "code",
   "execution_count": 39,
   "id": "e8070785-4968-4371-8ec4-6b76a35c40c1",
   "metadata": {},
   "outputs": [
    {
     "name": "stdout",
     "output_type": "stream",
     "text": [
      "False\n"
     ]
    }
   ],
   "source": [
    "print(set1.isdisjoint(set2))"
   ]
  },
  {
   "cell_type": "markdown",
   "id": "30096636-70be-47f5-bddd-27db6587fd36",
   "metadata": {},
   "source": [
    "25.7- Bir küme diğer kümenin alt kümesi midir? (issubset())"
   ]
  },
  {
   "cell_type": "code",
   "execution_count": 40,
   "id": "eee310df-233a-40a0-9bf3-33dfecffe971",
   "metadata": {},
   "outputs": [
    {
     "name": "stdout",
     "output_type": "stream",
     "text": [
      "False\n"
     ]
    }
   ],
   "source": [
    "print(set1.isdisjoint(set2))"
   ]
  },
  {
   "cell_type": "markdown",
   "id": "6c987f14-f2ec-46fd-a30a-92cdf0d68e59",
   "metadata": {},
   "source": [
    "25.8- Bir küme diğer kümeyi kapsıyor mudur? (isdisjoint())"
   ]
  },
  {
   "cell_type": "code",
   "execution_count": 41,
   "id": "1d919a47-3837-4278-8391-9541058648b6",
   "metadata": {},
   "outputs": [
    {
     "name": "stdout",
     "output_type": "stream",
     "text": [
      "False\n"
     ]
    }
   ],
   "source": [
    "print(set1.isdisjoint(set2))"
   ]
  },
  {
   "cell_type": "code",
   "execution_count": 42,
   "id": "2cd821bc-4ae1-482c-877a-50e163045e24",
   "metadata": {
    "tags": []
   },
   "outputs": [],
   "source": [
    "maaslar = [1000,2000,3000,4000,5000]"
   ]
  },
  {
   "cell_type": "markdown",
   "id": "7f98af2c-26bf-4e7f-90c6-b9cb108aa234",
   "metadata": {},
   "source": [
    "26- Maaslara yuzde 20 zam yaparak zamlı_maaslar listesine atayınız. (Function, For kullanarak)"
   ]
  },
  {
   "cell_type": "code",
   "execution_count": 43,
   "id": "971dd6b9-435f-48bf-a08f-fac794fc8606",
   "metadata": {},
   "outputs": [
    {
     "name": "stdout",
     "output_type": "stream",
     "text": [
      "[1200.0, 2400.0, 3600.0, 4800.0, 6000.0]\n"
     ]
    }
   ],
   "source": [
    "def zam(maaslar):\n",
    "    zamli_maaslar = []\n",
    "    for maas in maaslar:\n",
    "        zamli_maaslar.append(maas*120/100)\n",
    "    return zamli_maaslar\n",
    "zamli_maaslar = zam(maaslar)\n",
    "print(zamli_maaslar)"
   ]
  },
  {
   "cell_type": "markdown",
   "id": "3f110d62-a678-4067-a798-7ed68df5190c",
   "metadata": {},
   "source": [
    "27- zamlı_maaslar listesinden 2500 TL altındakileriden 50 TL vergi; 2500 TL  üzerindekilerden 100 TL vergi kesiniz. (Function, For, If kullanarak)"
   ]
  },
  {
   "cell_type": "code",
   "execution_count": 44,
   "id": "17a340a2-e1ac-4790-9786-88715affde4f",
   "metadata": {},
   "outputs": [
    {
     "name": "stdout",
     "output_type": "stream",
     "text": [
      "[1150.0, 2350.0, 3500.0, 4700.0, 5900.0]\n"
     ]
    }
   ],
   "source": [
    "def vergi(zamli_maaslar):\n",
    "    vergi_kesilmis_maaslar = []\n",
    "    for maas in zamli_maaslar:\n",
    "        if maas < 2500:\n",
    "            vergi_kesilmis_maaslar.append(maas - 50)\n",
    "        else:\n",
    "            vergi_kesilmis_maaslar.append(maas - 100)\n",
    "    return vergi_kesilmis_maaslar\n",
    "vergiden_sonraki_maaslar = vergi(zamli_maaslar)\n",
    "print(vergiden_sonraki_maaslar)"
   ]
  },
  {
   "cell_type": "code",
   "execution_count": 45,
   "id": "4599a095-5edd-488a-aedd-0117f26e1538",
   "metadata": {
    "tags": []
   },
   "outputs": [],
   "source": [
    "students = [\"John\", \"Mark\", \"Venessa\", \"Mariam\"]"
   ]
  },
  {
   "cell_type": "markdown",
   "id": "00f9cc91-e415-4a26-b594-a227428f81e2",
   "metadata": {},
   "source": [
    "28- Listedeki öğrencileri index numaralarına göre iki gruba tek bir listede return edecek bir fonksiyonla yapınız."
   ]
  },
  {
   "cell_type": "code",
   "execution_count": 46,
   "id": "582bbf7d-0e96-4499-a629-50f25510165e",
   "metadata": {},
   "outputs": [
    {
     "name": "stdout",
     "output_type": "stream",
     "text": [
      "[('John', 'Mark'), ('Venessa', 'Mariam')]\n"
     ]
    }
   ],
   "source": [
    "def idx_func(students):\n",
    "    list_1 = []\n",
    "    list_2 = []\n",
    "    for idx, student in enumerate(students):\n",
    "        if idx % 2 == 0:\n",
    "            list_1.append(student)\n",
    "        else:\n",
    "            list_2.append(student)\n",
    "    return list(zip(list_1, list_2))\n",
    "print(idx_func(students))"
   ]
  },
  {
   "cell_type": "markdown",
   "id": "1cb1ed9b-9c8e-4f06-8e50-687d49321608",
   "metadata": {},
   "source": [
    "29- Aşağıdaki şekilde string'i değiştirecek bir fonksiyon yazınız.\n",
    "\n",
    "    before: \"hi my name is john and i am learning python\"\n",
    "\n",
    "    after: \"Hi mY NaMe iS JoHn aNd i aM LeArNiNg pYtHoN\"\n"
   ]
  },
  {
   "cell_type": "code",
   "execution_count": 47,
   "id": "31194c62-7223-401a-a9b4-7f28c3e4716f",
   "metadata": {},
   "outputs": [
    {
     "name": "stdout",
     "output_type": "stream",
     "text": [
      "Hi mY NaMe iS JoHn aNd i aM LeArNiNg pYtHoN\n"
     ]
    }
   ],
   "source": [
    "def string_changer(string):\n",
    "    new_str = \"\"\n",
    "    for idx, char in enumerate(string):\n",
    "        if idx % 2 == 0:\n",
    "            new_str += char.upper()\n",
    "        else:\n",
    "            new_str += char.lower()\n",
    "    return new_str\n",
    "print(string_changer(\"hi my name is john and i am learning python\"))"
   ]
  },
  {
   "cell_type": "code",
   "execution_count": 48,
   "id": "d62174a5-7e59-4b34-87b2-44abed242a82",
   "metadata": {},
   "outputs": [
    {
     "name": "stdout",
     "output_type": "stream",
     "text": [
      "Hi mY NaMe iS JoHn aNd i aM LeArNiNg pYtHoN\n"
     ]
    }
   ],
   "source": [
    "def alternating(string):\n",
    "    new_string = \"\"\n",
    "\n",
    "    for string_index in range(len(string)):\n",
    "        if string_index % 2 == 0:\n",
    "            new_string += string[string_index].upper()\n",
    "        else:\n",
    "            new_string += string[string_index].lower()\n",
    "\n",
    "    print(new_string)\n",
    "\n",
    "alternating(\"hi my name is john and i am learning python\")"
   ]
  },
  {
   "cell_type": "markdown",
   "id": "5ffd1e11-7854-4d30-b7ca-3dfba89f306d",
   "metadata": {},
   "source": [
    "30- Yukarıda yer alan fonksiyonu enumerate kullanarak yeniden yazınız."
   ]
  },
  {
   "cell_type": "code",
   "execution_count": 49,
   "id": "319707b4-5ab4-4e26-9101-2f96b5643321",
   "metadata": {},
   "outputs": [
    {
     "name": "stdout",
     "output_type": "stream",
     "text": [
      "Hi mY NaMe iS JoHn aNd i aM LeArNiNg pYtHoN\n"
     ]
    }
   ],
   "source": [
    "def alternating(string):\n",
    "    new_string = \"\"\n",
    "\n",
    "    for idx, char in enumerate(string):\n",
    "        if idx % 2 == 0:\n",
    "            new_string += char.upper()\n",
    "        else:\n",
    "            new_string += char.lower()\n",
    "\n",
    "    print(new_string)\n",
    "\n",
    "alternating(\"hi my name is john and i am learning python\")"
   ]
  },
  {
   "cell_type": "markdown",
   "id": "5bebf11b-b33e-4bc7-a7be-786501dfa89c",
   "metadata": {},
   "source": [
    "31-Kullanıcıdan ismini ve yasını alacak bir fonksiyon olusturunuz. \n",
    "Fonksiyon çıktısı aşağıdaki şekilde olmalı:\n",
    "\n",
    "    Merhaba benim ismim X,\n",
    "    Y yasındayım!"
   ]
  },
  {
   "cell_type": "code",
   "execution_count": 50,
   "id": "af0342f6-3876-48ba-a40b-1f49e9c08d3c",
   "metadata": {},
   "outputs": [
    {
     "name": "stdin",
     "output_type": "stream",
     "text": [
      "ismin: Alperen\n",
      "yas: 21\n"
     ]
    },
    {
     "name": "stdout",
     "output_type": "stream",
     "text": [
      "Merhaba benim ismim Alperen,\n",
      "21 yasındayım!\n"
     ]
    }
   ],
   "source": [
    "def user_inp():\n",
    "    isim = input(\"ismin:\")\n",
    "    yas = input(\"yas:\")\n",
    "    print(\"Merhaba benim ismim \"+isim+\",\\n\"+yas+\" yasındayım!\")\n",
    "user_inp()"
   ]
  }
 ],
 "metadata": {
  "kernelspec": {
   "display_name": "Python 3",
   "language": "python",
   "name": "python3"
  },
  "language_info": {
   "codemirror_mode": {
    "name": "ipython",
    "version": 3
   },
   "file_extension": ".py",
   "mimetype": "text/x-python",
   "name": "python",
   "nbconvert_exporter": "python",
   "pygments_lexer": "ipython3",
   "version": "3.8.8"
  }
 },
 "nbformat": 4,
 "nbformat_minor": 5
}
